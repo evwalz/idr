{
 "cells": [
  {
   "cell_type": "code",
   "execution_count": 1,
   "metadata": {},
   "outputs": [],
   "source": [
    "from isodisreg import idr\n",
    "import numpy as np\n",
    "import pandas as pd\n",
    "import matplotlib.pyplot as plt"
   ]
  },
  {
   "cell_type": "code",
   "execution_count": 2,
   "metadata": {},
   "outputs": [],
   "source": [
    "# Get data\n",
    "rain = idr.load_rain()\n",
    "varNames = rain.columns[3:55]"
   ]
  },
  {
   "cell_type": "markdown",
   "metadata": {},
   "source": [
    "## Example 1: idr() and predict()"
   ]
  },
  {
   "cell_type": "code",
   "execution_count": 3,
   "metadata": {},
   "outputs": [
    {
     "name": "stderr",
     "output_type": "stream",
     "text": [
      "100% (41 of 41) |########################| Elapsed Time: 0:00:00 Time:  0:00:00\n"
     ]
    }
   ],
   "source": [
    "X = rain[varNames][0:185]\n",
    "y = rain['obs'][0:185]\n",
    "data = rain[varNames][185:186]\n",
    "\n",
    "# Define groups and orders\n",
    "values = np.ones(52)+1\n",
    "values[0:2] = 1\n",
    "groups = dict(zip(varNames, values))\n",
    "orders = dict({\"1\":\"comp\", \"2\":\"icx\"})\n",
    "\n",
    "# compute idr\n",
    "fit = idr.idr(y = y, X = X, orders = orders, groups = groups)\n",
    "\n",
    "# fit idr / make prediction\n",
    "preds1 = fit.predict()\n",
    "preds2 = fit.predict(data)"
   ]
  },
  {
   "cell_type": "markdown",
   "metadata": {},
   "source": [
    "## Example 2: cdf(), qpred(), qscore(), bscore() and crps()"
   ]
  },
  {
   "cell_type": "code",
   "execution_count": 4,
   "metadata": {},
   "outputs": [
    {
     "name": "stdout",
     "output_type": "stream",
     "text": [
      "[0.031 0.348 0.683]\n"
     ]
    }
   ],
   "source": [
    "# cdf\n",
    "X = rain[[\"HRES\"]][0:3*365]\n",
    "y = rain['obs'][0:3*365]\n",
    "data = pd.DataFrame({\"HRES\": [0, 0.5, 1]}, columns = [\"HRES\"])\n",
    "fit = idr.idr(y = y, X = X)\n",
    "preds1 = fit.predict(data)\n",
    "cdf0 = preds1.cdf(thresholds = 0)\n",
    "print(1-np.array(cdf0))"
   ]
  },
  {
   "cell_type": "code",
   "execution_count": 5,
   "metadata": {},
   "outputs": [
    {
     "name": "stdout",
     "output_type": "stream",
     "text": [
      "Mean Qscore: 1.1426027397260272\n",
      "Mean Bscore: 0.38918030660536684\n",
      "Mean CRPS: 0.8426297193150685\n"
     ]
    }
   ],
   "source": [
    "# qpred\n",
    "data = pd.DataFrame({\"HRES\": [2.5, 5, 10]}, columns = [\"HRES\"])\n",
    "preds2 = fit.predict(data)\n",
    "qpredict = preds2.qpred(quantiles = 0.95)\n",
    "\n",
    "# qscore\n",
    "data = rain[[\"HRES\"]][3*365:5*365]\n",
    "obs = rain[\"obs\"][3*365:5*365]\n",
    "preds3 = fit.predict(data)\n",
    "print(\"Mean Qscore:\", np.mean(preds3.qscore(0.5, obs)))\n",
    "\n",
    "# bscore\n",
    "idrBscore = np.mean(preds3.bscore(thresholds = 0, y = obs))\n",
    "print(\"Mean Bscore:\", idrBscore)\n",
    "\n",
    "# crps\n",
    "idrCRPS = np.mean(preds3.crps(obs))\n",
    "print(\"Mean CRPS:\", idrCRPS)"
   ]
  },
  {
   "cell_type": "markdown",
   "metadata": {},
   "source": [
    "## Example 3: pit()"
   ]
  },
  {
   "cell_type": "code",
   "execution_count": 8,
   "metadata": {},
   "outputs": [
    {
     "data": {
      "image/png": "[encoded data removed]",
      "text/plain": [
       "<Figure size 432x288 with 1 Axes>"
      ]
     },
     "metadata": {
      "needs_background": "light"
     },
     "output_type": "display_data"
    }
   ],
   "source": [
    "X = rain[[\"HRES\"]][0:4*365]\n",
    "y = rain[\"obs\"][0:4*365]\n",
    "fit = idr.idr(y = y, X = X)\n",
    "data = rain[[\"HRES\"]][4*365:8*365]\n",
    "obs = rain[\"obs\"][4*365:8*365]\n",
    "preds = fit.predict(data = data)\n",
    "idrPIT = preds.pit(y = obs, seed = 123)\n",
    "a, b, x = plt.hist(idrPIT, density = True)\n",
    "plt.title(\"Postprocessed HRES\")\n",
    "plt.xlabel(\"Probability Integral Transform\")\n",
    "plt.ylabel(\"Density\")\n",
    "plt.show()"
   ]
  },
  {
   "cell_type": "markdown",
   "metadata": {},
   "source": [
    "## Example 4: plot()"
   ]
  },
  {
   "cell_type": "code",
   "execution_count": 6,
   "metadata": {},
   "outputs": [
    {
     "data": {
      "image/png": "[encoded data removed]",
      "text/plain": [
       "<Figure size 432x288 with 1 Axes>"
      ]
     },
     "metadata": {
      "needs_background": "light"
     },
     "output_type": "display_data"
    }
   ],
   "source": [
    "X = rain[[\"HRES\"]][0:2*365]\n",
    "y = rain[\"obs\"][0:2*365]\n",
    "fit = idr.idr(y = y, X = X)\n",
    "data = pd.DataFrame({\"HRES\": [1], \"CTR\": [0]}, columns = [\"HRES\", \"CTR\"])\n",
    "preds = fit.predict(data = data)\n",
    "preds.plot() "
   ]
  }
 ],
 "metadata": {
  "kernelspec": {
   "display_name": "Python 3",
   "language": "python",
   "name": "python3"
  },
  "language_info": {
   "codemirror_mode": {
    "name": "ipython",
    "version": 3
   },
   "file_extension": ".py",
   "mimetype": "text/x-python",
   "name": "python",
   "nbconvert_exporter": "python",
   "pygments_lexer": "ipython3",
   "version": "3.7.6"
  }
 },
 "nbformat": 4,
 "nbformat_minor": 4
}
